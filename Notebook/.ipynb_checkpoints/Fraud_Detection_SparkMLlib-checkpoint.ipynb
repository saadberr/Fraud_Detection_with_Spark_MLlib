{
 "cells": [
  {
   "cell_type": "markdown",
   "id": "acb79a2e",
   "metadata": {},
   "source": [
    "# Fraud Detection using -- Spark MLlib --"
   ]
  },
  {
   "cell_type": "markdown",
   "id": "2378082d",
   "metadata": {},
   "source": [
    "## Importing Libraries"
   ]
  },
  {
   "cell_type": "code",
   "execution_count": 1,
   "id": "c05a22f7",
   "metadata": {},
   "outputs": [],
   "source": [
    "import warnings\n",
    "warnings.filterwarnings('ignore')"
   ]
  },
  {
   "cell_type": "code",
   "execution_count": 2,
   "id": "c96d88c5",
   "metadata": {},
   "outputs": [],
   "source": [
    "import pandas as pd\n",
    "import numpy as np\n",
    "import seaborn as sns\n",
    "import matplotlib.pyplot as plt"
   ]
  },
  {
   "cell_type": "code",
   "execution_count": 3,
   "id": "8e808de6",
   "metadata": {},
   "outputs": [],
   "source": [
    "# This module provides tools when dealing with classification with imbalanced classes\n",
    "from imblearn.over_sampling import SMOTE\n",
    "from imblearn.over_sampling import BorderlineSMOTE\n",
    "from imblearn.pipeline import Pipeline "
   ]
  },
  {
   "cell_type": "code",
   "execution_count": 4,
   "id": "276ae22e",
   "metadata": {},
   "outputs": [],
   "source": [
    "from pyspark.sql import SparkSession\n",
    "\n",
    "# Create SparkSession object\n",
    "spark = SparkSession.builder \\\n",
    "                    .master('local[*]') \\\n",
    "                    .getOrCreate()"
   ]
  },
  {
   "cell_type": "markdown",
   "id": "f66fd44a",
   "metadata": {},
   "source": [
    "## Importing Data"
   ]
  },
  {
   "cell_type": "code",
   "execution_count": 5,
   "id": "c17d80e3",
   "metadata": {},
   "outputs": [],
   "source": [
    "df = spark.read.csv('..\\\\Dataset\\\\credit.csv', sep=',',header=True)"
   ]
  },
  {
   "cell_type": "code",
   "execution_count": 6,
   "id": "bb8275bb",
   "metadata": {},
   "outputs": [
    {
     "name": "stdout",
     "output_type": "stream",
     "text": [
      "+----+--------+--------+-----------+-------------+--------------+-----------+--------------+--------------+-------+--------------+\n",
      "|step|    type|  amount|   nameOrig|oldbalanceOrg|newbalanceOrig|   nameDest|oldbalanceDest|newbalanceDest|isFraud|isFlaggedFraud|\n",
      "+----+--------+--------+-----------+-------------+--------------+-----------+--------------+--------------+-------+--------------+\n",
      "|   1| PAYMENT| 9839.64|C1231006815|     170136.0|     160296.36|M1979787155|           0.0|           0.0|      0|             0|\n",
      "|   1| PAYMENT| 1864.28|C1666544295|      21249.0|      19384.72|M2044282225|           0.0|           0.0|      0|             0|\n",
      "|   1|TRANSFER|   181.0|C1305486145|        181.0|           0.0| C553264065|           0.0|           0.0|      1|             0|\n",
      "|   1|CASH_OUT|   181.0| C840083671|        181.0|           0.0|  C38997010|       21182.0|           0.0|      1|             0|\n",
      "|   1| PAYMENT|11668.14|C2048537720|      41554.0|      29885.86|M1230701703|           0.0|           0.0|      0|             0|\n",
      "+----+--------+--------+-----------+-------------+--------------+-----------+--------------+--------------+-------+--------------+\n",
      "only showing top 5 rows\n",
      "\n"
     ]
    }
   ],
   "source": [
    "df.show(5)"
   ]
  },
  {
   "cell_type": "code",
   "execution_count": 7,
   "id": "a4d06830",
   "metadata": {},
   "outputs": [
    {
     "name": "stdout",
     "output_type": "stream",
     "text": [
      "Records number : 6362620.\n"
     ]
    }
   ],
   "source": [
    "# Records number\n",
    "print('Records number : {}.'.format(df.count()))"
   ]
  },
  {
   "cell_type": "code",
   "execution_count": 8,
   "id": "9c5d31a4",
   "metadata": {},
   "outputs": [
    {
     "name": "stdout",
     "output_type": "stream",
     "text": [
      "Columns number : 11\n"
     ]
    }
   ],
   "source": [
    "# Columns number\n",
    "print('Columns number : {}'.format(len(df.columns)))"
   ]
  },
  {
   "cell_type": "code",
   "execution_count": 9,
   "id": "154271a9",
   "metadata": {},
   "outputs": [],
   "source": [
    "# The Dataset is so huge, so we will take only its half, we will select randomly 3M records\n",
    "df = df.sample(False, 0.5, 42)"
   ]
  },
  {
   "cell_type": "code",
   "execution_count": 10,
   "id": "8fe21f80",
   "metadata": {},
   "outputs": [],
   "source": [
    "from pyspark.sql.functions import count, when, isnan, col"
   ]
  },
  {
   "cell_type": "code",
   "execution_count": 11,
   "id": "e8263fd1",
   "metadata": {},
   "outputs": [
    {
     "name": "stdout",
     "output_type": "stream",
     "text": [
      "+----+----+------+--------+-------------+--------------+--------+--------------+--------------+-------+--------------+\n",
      "|step|type|amount|nameOrig|oldbalanceOrg|newbalanceOrig|nameDest|oldbalanceDest|newbalanceDest|isFraud|isFlaggedFraud|\n",
      "+----+----+------+--------+-------------+--------------+--------+--------------+--------------+-------+--------------+\n",
      "|   0|   0|     0|       0|            0|             0|       0|             0|             0|      0|             0|\n",
      "+----+----+------+--------+-------------+--------------+--------+--------------+--------------+-------+--------------+\n",
      "\n"
     ]
    }
   ],
   "source": [
    "# Missing values\n",
    "df.select([count(when(isnan(c),c)).alias(c) for c in df.columns]).show()"
   ]
  },
  {
   "cell_type": "code",
   "execution_count": 12,
   "id": "eba3c204",
   "metadata": {},
   "outputs": [],
   "source": [
    "# So the Dataset is clean, there is no missing values."
   ]
  },
  {
   "cell_type": "code",
   "execution_count": 13,
   "id": "b1df9a96",
   "metadata": {},
   "outputs": [
    {
     "name": "stdout",
     "output_type": "stream",
     "text": [
      "root\n",
      " |-- step: string (nullable = true)\n",
      " |-- type: string (nullable = true)\n",
      " |-- amount: string (nullable = true)\n",
      " |-- nameOrig: string (nullable = true)\n",
      " |-- oldbalanceOrg: string (nullable = true)\n",
      " |-- newbalanceOrig: string (nullable = true)\n",
      " |-- nameDest: string (nullable = true)\n",
      " |-- oldbalanceDest: string (nullable = true)\n",
      " |-- newbalanceDest: string (nullable = true)\n",
      " |-- isFraud: string (nullable = true)\n",
      " |-- isFlaggedFraud: string (nullable = true)\n",
      "\n"
     ]
    }
   ],
   "source": [
    "# Schema\n",
    "df.printSchema()"
   ]
  },
  {
   "cell_type": "code",
   "execution_count": 14,
   "id": "bead5d58",
   "metadata": {},
   "outputs": [],
   "source": [
    "# columns transformation\n",
    "from pyspark.sql.types import DoubleType\n",
    "\n",
    "df = df.withColumn(\"step\", df.step.cast(DoubleType()))\n",
    "df = df.withColumn(\"amount\", df.amount.cast(DoubleType()))\n",
    "df = df.withColumn(\"oldbalanceOrg\", df.oldbalanceOrg.cast(DoubleType()))\n",
    "df = df.withColumn(\"newbalanceOrig\", df.newbalanceOrig.cast(DoubleType()))\n",
    "df = df.withColumn(\"oldbalanceDest\", df.oldbalanceDest.cast(DoubleType()))\n",
    "df = df.withColumn(\"newbalanceDest\", df.newbalanceDest.cast(DoubleType()))\n",
    "df = df.withColumn(\"isFraud\", df.isFraud.cast('int'))\n",
    "df = df.withColumn(\"isFlaggedFraud\", df.isFlaggedFraud.cast('int'))"
   ]
  },
  {
   "cell_type": "code",
   "execution_count": 15,
   "id": "91ba284f",
   "metadata": {},
   "outputs": [
    {
     "data": {
      "text/plain": [
       "[('step', 'double'),\n",
       " ('type', 'string'),\n",
       " ('amount', 'double'),\n",
       " ('nameOrig', 'string'),\n",
       " ('oldbalanceOrg', 'double'),\n",
       " ('newbalanceOrig', 'double'),\n",
       " ('nameDest', 'string'),\n",
       " ('oldbalanceDest', 'double'),\n",
       " ('newbalanceDest', 'double'),\n",
       " ('isFraud', 'int'),\n",
       " ('isFlaggedFraud', 'int')]"
      ]
     },
     "execution_count": 15,
     "metadata": {},
     "output_type": "execute_result"
    }
   ],
   "source": [
    "# Checking Data types\n",
    "df.dtypes"
   ]
  },
  {
   "cell_type": "code",
   "execution_count": 16,
   "id": "ddfd1407",
   "metadata": {},
   "outputs": [],
   "source": [
    "df = df.drop('isFlaggedFraud')"
   ]
  },
  {
   "cell_type": "code",
   "execution_count": 17,
   "id": "cabd0da2",
   "metadata": {},
   "outputs": [],
   "source": [
    "# Predictors : step, type, amount, nameOrig, oldbalanceOrg, newbalanceOrig, oldbalanceDest, newbalanceDest\n",
    "# Target : isFraud"
   ]
  },
  {
   "cell_type": "code",
   "execution_count": 18,
   "id": "b7af81e6",
   "metadata": {},
   "outputs": [],
   "source": [
    "df = df.select('step', 'type', 'amount', 'nameOrig', 'oldbalanceOrg', 'newbalanceOrig', 'nameDest','oldbalanceDest', 'newbalanceDest', 'isFraud')"
   ]
  },
  {
   "cell_type": "markdown",
   "id": "c3e969d9",
   "metadata": {},
   "source": [
    "## 1 - EDA :"
   ]
  },
  {
   "cell_type": "code",
   "execution_count": 19,
   "id": "26c419e8",
   "metadata": {},
   "outputs": [
    {
     "name": "stdout",
     "output_type": "stream",
     "text": [
      "+-------+------------------+--------+------------------+-----------+-----------------+------------------+-----------+------------------+------------------+--------------------+\n",
      "|summary|              step|    type|            amount|   nameOrig|    oldbalanceOrg|    newbalanceOrig|   nameDest|    oldbalanceDest|    newbalanceDest|             isFraud|\n",
      "+-------+------------------+--------+------------------+-----------+-----------------+------------------+-----------+------------------+------------------+--------------------+\n",
      "|  count|           3182505| 3182505|           3182505|    3182505|          3182505|           3182505|    3182505|           3182505|           3182505|             3182505|\n",
      "|   mean|243.32051827098465|    null|180108.63530602978|       null|832749.6707201254| 853986.0712083996|       null|1104812.3688028697|1229522.0882875763|0.001285779598146743|\n",
      "| stddev| 142.3514799023828|    null| 603080.4075271396|       null|2884824.170356285|2920635.8624181743|       null|3427265.1766493297|3700988.0592913437|0.035834714627960236|\n",
      "|    min|               1.0| CASH_IN|               0.0|C1000001337|              0.0|               0.0|C1000004082|               0.0|               0.0|                   0|\n",
      "|    max|             743.0|TRANSFER|     9.244551664E7| C999999614|    5.958504037E7|     4.958504037E7| M999999543|    3.5538143361E8|     3.555534163E8|                   1|\n",
      "+-------+------------------+--------+------------------+-----------+-----------------+------------------+-----------+------------------+------------------+--------------------+\n",
      "\n"
     ]
    }
   ],
   "source": [
    "df.describe().show()"
   ]
  },
  {
   "cell_type": "code",
   "execution_count": 20,
   "id": "a7db9051",
   "metadata": {},
   "outputs": [],
   "source": [
    "# Convert df to pandas dataframe\n",
    "pd_df = df.toPandas()"
   ]
  },
  {
   "cell_type": "code",
   "execution_count": 21,
   "id": "14ba97c9",
   "metadata": {},
   "outputs": [
    {
     "name": "stdout",
     "output_type": "stream",
     "text": [
      "+-------+-------+\n",
      "|isFraud|  count|\n",
      "+-------+-------+\n",
      "|      1|   4092|\n",
      "|      0|3178413|\n",
      "+-------+-------+\n",
      "\n"
     ]
    }
   ],
   "source": [
    "# Count the occurrences of fraud and no fraud and print them\n",
    "df.groupby('isFraud').count().show()"
   ]
  },
  {
   "cell_type": "code",
   "execution_count": 22,
   "id": "7015627c",
   "metadata": {},
   "outputs": [
    {
     "name": "stdout",
     "output_type": "stream",
     "text": [
      "Ratio of fraud cases : 0.129 %\n"
     ]
    }
   ],
   "source": [
    "# Print the ratio of fraud cases\n",
    "occ = pd_df.isFraud.value_counts()\n",
    "ratio = occ[1]/occ[0]\n",
    "print('Ratio of fraud cases :',(ratio*100).round(3),'%')"
   ]
  },
  {
   "cell_type": "markdown",
   "id": "c995003c",
   "metadata": {},
   "source": [
    "## Visualisations :"
   ]
  },
  {
   "cell_type": "markdown",
   "id": "63eadf40",
   "metadata": {},
   "source": [
    "### Faud to nonFraud ScatterPlot :"
   ]
  },
  {
   "cell_type": "code",
   "execution_count": 23,
   "id": "893a6e32",
   "metadata": {},
   "outputs": [],
   "source": [
    "def prep_data(df):\n",
    "    X = df.drop(columns=['isFraud'])\n",
    "    y = df.isFraud\n",
    "    return X, y"
   ]
  },
  {
   "cell_type": "code",
   "execution_count": 24,
   "id": "393c2c0b",
   "metadata": {},
   "outputs": [],
   "source": [
    "# Define a function to create a scatter plot of our data and labels\n",
    "def plot_data(X, y):\n",
    "    plt.figure(figsize=(8,6))\n",
    "    plt.scatter(X[y == 0].oldbalanceOrg, X[y == 0].oldbalanceDest, label=\"nonFraud #0\", alpha=0.5, linewidth=0.15)\n",
    "    plt.scatter(X[y == 1].oldbalanceOrg, X[y == 1].oldbalanceDest, label=\"Fraud #1\", alpha=0.3, linewidth=0.15, c='r')\n",
    "    plt.legend()\n",
    "    return plt.show()"
   ]
  },
  {
   "cell_type": "code",
   "execution_count": 25,
   "id": "4aefd24b",
   "metadata": {},
   "outputs": [],
   "source": [
    "# Create X and y from the prep_data function \n",
    "X, y = prep_data(pd_df)"
   ]
  },
  {
   "cell_type": "code",
   "execution_count": 26,
   "id": "30b72f6e",
   "metadata": {},
   "outputs": [
    {
     "data": {
      "image/png": "[encoded data removed]",
      "text/plain": [
       "<Figure size 576x432 with 1 Axes>"
      ]
     },
     "metadata": {
      "needs_background": "light"
     },
     "output_type": "display_data"
    }
   ],
   "source": [
    "# Plot our data by running our plot data function on X and y\n",
    "plot_data(X,y)"
   ]
  },
  {
   "cell_type": "markdown",
   "id": "7519ae61",
   "metadata": {},
   "source": [
    "**Conclusion :**\n",
    "<br>\n",
    "By visualizing the data, we can immediately see how our fraud cases are scattered over our data, and how few cases we have. A picture often makes the imbalance problem clear. Next we'll visually explore how to improve our fraud to non-fraud balance."
   ]
  },
  {
   "cell_type": "markdown",
   "id": "fbb5539d",
   "metadata": {},
   "source": [
    "### Transactions Type :"
   ]
  },
  {
   "cell_type": "code",
   "execution_count": 27,
   "id": "617dd28a",
   "metadata": {},
   "outputs": [
    {
     "data": {
      "image/png": "[encoded data removed]",
      "text/plain": [
       "<Figure size 504x360 with 1 Axes>"
      ]
     },
     "metadata": {
      "needs_background": "light"
     },
     "output_type": "display_data"
    }
   ],
   "source": [
    "plt.figure(figsize=(7,5))\n",
    "plt.bar(pd_df['type'].value_counts().index, pd_df['type'].value_counts().values)\n",
    "plt.show()"
   ]
  },
  {
   "cell_type": "markdown",
   "id": "c531e886",
   "metadata": {},
   "source": [
    "### Fraudulent actions by transaction type :"
   ]
  },
  {
   "cell_type": "code",
   "execution_count": 28,
   "id": "31a06040",
   "metadata": {},
   "outputs": [
    {
     "data": {
      "image/png": "[encoded data removed]",
      "text/plain": [
       "<Figure size 504x360 with 1 Axes>"
      ]
     },
     "metadata": {
      "needs_background": "light"
     },
     "output_type": "display_data"
    }
   ],
   "source": [
    "plt.figure(figsize=(7,5))\n",
    "# Dataframe with only fraudulent actions\n",
    "fraud = pd_df[pd_df['isFraud']==1]\n",
    "sns.countplot(fraud['type'])\n",
    "plt.show()"
   ]
  },
  {
   "cell_type": "markdown",
   "id": "f6d008f0",
   "metadata": {},
   "source": [
    "### Correlation Matrix :"
   ]
  },
  {
   "cell_type": "code",
   "execution_count": 29,
   "id": "0f759646",
   "metadata": {},
   "outputs": [
    {
     "data": {
      "image/png": "[encoded data removed]",
      "text/plain": [
       "<Figure size 648x504 with 2 Axes>"
      ]
     },
     "metadata": {
      "needs_background": "light"
     },
     "output_type": "display_data"
    }
   ],
   "source": [
    "plt.figure(figsize=(9,7))\n",
    "sns.heatmap(pd_df.corr(), annot=True)\n",
    "plt.show()"
   ]
  },
  {
   "cell_type": "markdown",
   "id": "666faf54",
   "metadata": {},
   "source": [
    "We see that there is many variables correlated to each other, so we will delete some of them"
   ]
  },
  {
   "cell_type": "code",
   "execution_count": 30,
   "id": "fdeff180",
   "metadata": {},
   "outputs": [],
   "source": [
    "df = df.drop('newbalanceOrig', 'newbalanceDest')\n",
    "pd_df = df.toPandas()"
   ]
  },
  {
   "cell_type": "markdown",
   "id": "97c30c89",
   "metadata": {},
   "source": [
    "## 2 - Data Preprocessing"
   ]
  },
  {
   "cell_type": "markdown",
   "id": "f2f604ac",
   "metadata": {},
   "source": [
    "### Numerical Data :"
   ]
  },
  {
   "cell_type": "code",
   "execution_count": 31,
   "id": "907610d0",
   "metadata": {},
   "outputs": [],
   "source": [
    "num_cols = [ t[0] for t in df.dtypes if t[1] in ['double','int'] ]"
   ]
  },
  {
   "cell_type": "code",
   "execution_count": 32,
   "id": "764f0a56",
   "metadata": {},
   "outputs": [
    {
     "data": {
      "text/html": [
       "<div>\n",
       "<style scoped>\n",
       "    .dataframe tbody tr th:only-of-type {\n",
       "        vertical-align: middle;\n",
       "    }\n",
       "\n",
       "    .dataframe tbody tr th {\n",
       "        vertical-align: top;\n",
       "    }\n",
       "\n",
       "    .dataframe thead th {\n",
       "        text-align: right;\n",
       "    }\n",
       "</style>\n",
       "<table border=\"1\" class=\"dataframe\">\n",
       "  <thead>\n",
       "    <tr style=\"text-align: right;\">\n",
       "      <th></th>\n",
       "      <th>summary</th>\n",
       "      <th>step</th>\n",
       "      <th>amount</th>\n",
       "      <th>oldbalanceOrg</th>\n",
       "      <th>oldbalanceDest</th>\n",
       "      <th>isFraud</th>\n",
       "    </tr>\n",
       "  </thead>\n",
       "  <tbody>\n",
       "    <tr>\n",
       "      <th>0</th>\n",
       "      <td>count</td>\n",
       "      <td>3182505</td>\n",
       "      <td>3182505</td>\n",
       "      <td>3182505</td>\n",
       "      <td>3182505</td>\n",
       "      <td>3182505</td>\n",
       "    </tr>\n",
       "    <tr>\n",
       "      <th>1</th>\n",
       "      <td>mean</td>\n",
       "      <td>243.32051827098465</td>\n",
       "      <td>180108.63530602978</td>\n",
       "      <td>832749.6707201254</td>\n",
       "      <td>1104812.3688028697</td>\n",
       "      <td>0.001285779598146743</td>\n",
       "    </tr>\n",
       "    <tr>\n",
       "      <th>2</th>\n",
       "      <td>stddev</td>\n",
       "      <td>142.3514799023828</td>\n",
       "      <td>603080.4075271396</td>\n",
       "      <td>2884824.170356285</td>\n",
       "      <td>3427265.1766493297</td>\n",
       "      <td>0.035834714627960236</td>\n",
       "    </tr>\n",
       "    <tr>\n",
       "      <th>3</th>\n",
       "      <td>min</td>\n",
       "      <td>1.0</td>\n",
       "      <td>0.0</td>\n",
       "      <td>0.0</td>\n",
       "      <td>0.0</td>\n",
       "      <td>0</td>\n",
       "    </tr>\n",
       "    <tr>\n",
       "      <th>4</th>\n",
       "      <td>max</td>\n",
       "      <td>743.0</td>\n",
       "      <td>9.244551664E7</td>\n",
       "      <td>5.958504037E7</td>\n",
       "      <td>3.5538143361E8</td>\n",
       "      <td>1</td>\n",
       "    </tr>\n",
       "  </tbody>\n",
       "</table>\n",
       "</div>"
      ],
      "text/plain": [
       "  summary                step              amount      oldbalanceOrg  \\\n",
       "0   count             3182505             3182505            3182505   \n",
       "1    mean  243.32051827098465  180108.63530602978  832749.6707201254   \n",
       "2  stddev   142.3514799023828   603080.4075271396  2884824.170356285   \n",
       "3     min                 1.0                 0.0                0.0   \n",
       "4     max               743.0       9.244551664E7      5.958504037E7   \n",
       "\n",
       "       oldbalanceDest               isFraud  \n",
       "0             3182505               3182505  \n",
       "1  1104812.3688028697  0.001285779598146743  \n",
       "2  3427265.1766493297  0.035834714627960236  \n",
       "3                 0.0                     0  \n",
       "4      3.5538143361E8                     1  "
      ]
     },
     "execution_count": 32,
     "metadata": {},
     "output_type": "execute_result"
    }
   ],
   "source": [
    "df.select(num_cols).describe().toPandas()"
   ]
  },
  {
   "cell_type": "markdown",
   "id": "96550c74",
   "metadata": {},
   "source": [
    "### Separate nameOrig and nameDest :"
   ]
  },
  {
   "cell_type": "code",
   "execution_count": 33,
   "id": "9bf88d65",
   "metadata": {},
   "outputs": [],
   "source": [
    "import pyspark.sql.functions as F"
   ]
  },
  {
   "cell_type": "code",
   "execution_count": 34,
   "id": "7bd697ce",
   "metadata": {},
   "outputs": [
    {
     "name": "stdout",
     "output_type": "stream",
     "text": [
      "+----+--------+-------+-------------+-----------+--------------+-------+--------+-------------+\n",
      "|step|    type| amount|oldbalanceOrg|   nameDest|oldbalanceDest|isFraud|str_orig|     num_orig|\n",
      "+----+--------+-------+-------------+-----------+--------------+-------+--------+-------------+\n",
      "| 1.0|CASH_OUT|  181.0|        181.0|  C38997010|       21182.0|      1|       C| 8.40083671E8|\n",
      "| 1.0| PAYMENT|7861.64|    176087.23| M633326333|           0.0|      0|       C|1.912850431E9|\n",
      "| 1.0|   DEBIT|9644.94|       4465.0| C997608398|       10845.0|      0|       C|1.900366749E9|\n",
      "| 1.0| PAYMENT|2560.74|       5070.0| M972865270|           0.0|      0|       C|1.648232591E9|\n",
      "| 1.0| PAYMENT|1563.82|        450.0|M1731217984|           0.0|      0|       C| 7.61750706E8|\n",
      "+----+--------+-------+-------------+-----------+--------------+-------+--------+-------------+\n",
      "only showing top 5 rows\n",
      "\n"
     ]
    }
   ],
   "source": [
    "data = df\n",
    "\n",
    "data = (\n",
    "    data.withColumn('str_orig', F.substring('nameOrig',1,1))\n",
    "    .withColumn('num_orig',F.col('nameOrig').substr(F.lit(2), F.length('nameOrig') - F.lit(1)))\n",
    ")\n",
    "\n",
    "data = data.withColumn(\"num_orig\", data.num_orig.cast(DoubleType()))\n",
    "\n",
    "data = data.drop('nameOrig')\n",
    "\n",
    "data.show(5)"
   ]
  },
  {
   "cell_type": "code",
   "execution_count": 35,
   "id": "cf0bda2b",
   "metadata": {},
   "outputs": [
    {
     "name": "stdout",
     "output_type": "stream",
     "text": [
      "+----+--------+-------+-------------+--------------+-------+--------+-------------+--------+-------------+\n",
      "|step|    type| amount|oldbalanceOrg|oldbalanceDest|isFraud|str_orig|     num_orig|str_dest|     num_dest|\n",
      "+----+--------+-------+-------------+--------------+-------+--------+-------------+--------+-------------+\n",
      "| 1.0|CASH_OUT|  181.0|        181.0|       21182.0|      1|       C| 8.40083671E8|       C| 8.40083671E8|\n",
      "| 1.0| PAYMENT|7861.64|    176087.23|           0.0|      0|       C|1.912850431E9|       M|1.912850431E9|\n",
      "| 1.0|   DEBIT|9644.94|       4465.0|       10845.0|      0|       C|1.900366749E9|       C|1.900366749E9|\n",
      "| 1.0| PAYMENT|2560.74|       5070.0|           0.0|      0|       C|1.648232591E9|       M|1.648232591E9|\n",
      "| 1.0| PAYMENT|1563.82|        450.0|           0.0|      0|       C| 7.61750706E8|       M| 7.61750706E8|\n",
      "+----+--------+-------+-------------+--------------+-------+--------+-------------+--------+-------------+\n",
      "only showing top 5 rows\n",
      "\n"
     ]
    }
   ],
   "source": [
    "data = (\n",
    "    data.withColumn('str_dest', F.substring('nameDest',1,1))\n",
    "    .withColumn('num_dest',F.col('nameDest').substr(F.lit(2), F.length('nameDest') - F.lit(1)))\n",
    ")\n",
    "\n",
    "data = data.withColumn(\"num_dest\", data.num_orig.cast(DoubleType()))\n",
    "\n",
    "data = data.drop('nameDest')\n",
    "\n",
    "data.show(5)"
   ]
  },
  {
   "cell_type": "markdown",
   "id": "f81678f2",
   "metadata": {},
   "source": [
    "### Applying OneHotEncoder to type, str_orig, str_dest"
   ]
  },
  {
   "cell_type": "code",
   "execution_count": 36,
   "id": "3eda0bdb",
   "metadata": {},
   "outputs": [],
   "source": [
    "from pyspark.ml.feature import StringIndexer"
   ]
  },
  {
   "cell_type": "markdown",
   "id": "1259771d",
   "metadata": {},
   "source": [
    "### type column :"
   ]
  },
  {
   "cell_type": "code",
   "execution_count": 37,
   "id": "bb094c10",
   "metadata": {},
   "outputs": [
    {
     "name": "stdout",
     "output_type": "stream",
     "text": [
      "+----+-------+-------------+--------------+-------+--------+-------------+--------+-------------+---------+\n",
      "|step| amount|oldbalanceOrg|oldbalanceDest|isFraud|str_orig|     num_orig|str_dest|     num_dest|typeIndex|\n",
      "+----+-------+-------------+--------------+-------+--------+-------------+--------+-------------+---------+\n",
      "| 1.0|  181.0|        181.0|       21182.0|      1|       C| 8.40083671E8|       C| 8.40083671E8|      0.0|\n",
      "| 1.0|7861.64|    176087.23|           0.0|      0|       C|1.912850431E9|       M|1.912850431E9|      1.0|\n",
      "| 1.0|9644.94|       4465.0|       10845.0|      0|       C|1.900366749E9|       C|1.900366749E9|      4.0|\n",
      "| 1.0|2560.74|       5070.0|           0.0|      0|       C|1.648232591E9|       M|1.648232591E9|      1.0|\n",
      "| 1.0|1563.82|        450.0|           0.0|      0|       C| 7.61750706E8|       M| 7.61750706E8|      1.0|\n",
      "+----+-------+-------------+--------------+-------+--------+-------------+--------+-------------+---------+\n",
      "only showing top 5 rows\n",
      "\n"
     ]
    }
   ],
   "source": [
    "indexer = StringIndexer(inputCol='type', outputCol='typeIndex')\n",
    "data = indexer.fit(data).transform(data)\n",
    "data = data.drop('type')\n",
    "data.show(5)"
   ]
  },
  {
   "cell_type": "code",
   "execution_count": 38,
   "id": "0d254638",
   "metadata": {},
   "outputs": [
    {
     "name": "stdout",
     "output_type": "stream",
     "text": [
      "+---------+-------+\n",
      "|typeIndex|  count|\n",
      "+---------+-------+\n",
      "|      0.0|1119800|\n",
      "|      1.0|1075637|\n",
      "|      4.0|  20621|\n",
      "|      3.0| 266850|\n",
      "|      2.0| 699597|\n",
      "+---------+-------+\n",
      "\n"
     ]
    }
   ],
   "source": [
    "data.groupBy('typeIndex').count().show()"
   ]
  },
  {
   "cell_type": "markdown",
   "id": "2d651273",
   "metadata": {},
   "source": [
    "### str_orig column :"
   ]
  },
  {
   "cell_type": "code",
   "execution_count": 39,
   "id": "d1a87d69",
   "metadata": {},
   "outputs": [
    {
     "name": "stdout",
     "output_type": "stream",
     "text": [
      "+----+-------+-------------+--------------+-------+-------------+--------+-------------+---------+-------------+\n",
      "|step| amount|oldbalanceOrg|oldbalanceDest|isFraud|     num_orig|str_dest|     num_dest|typeIndex|nameOrigIndex|\n",
      "+----+-------+-------------+--------------+-------+-------------+--------+-------------+---------+-------------+\n",
      "| 1.0|  181.0|        181.0|       21182.0|      1| 8.40083671E8|       C| 8.40083671E8|      0.0|          0.0|\n",
      "| 1.0|7861.64|    176087.23|           0.0|      0|1.912850431E9|       M|1.912850431E9|      1.0|          0.0|\n",
      "| 1.0|9644.94|       4465.0|       10845.0|      0|1.900366749E9|       C|1.900366749E9|      4.0|          0.0|\n",
      "| 1.0|2560.74|       5070.0|           0.0|      0|1.648232591E9|       M|1.648232591E9|      1.0|          0.0|\n",
      "| 1.0|1563.82|        450.0|           0.0|      0| 7.61750706E8|       M| 7.61750706E8|      1.0|          0.0|\n",
      "+----+-------+-------------+--------------+-------+-------------+--------+-------------+---------+-------------+\n",
      "only showing top 5 rows\n",
      "\n"
     ]
    }
   ],
   "source": [
    "indexer = StringIndexer(inputCol='str_orig', outputCol='nameOrigIndex')\n",
    "data = indexer.fit(data).transform(data)\n",
    "data = data.drop('str_orig')\n",
    "data.show(5)"
   ]
  },
  {
   "cell_type": "code",
   "execution_count": 40,
   "id": "c1b849b1",
   "metadata": {},
   "outputs": [
    {
     "name": "stdout",
     "output_type": "stream",
     "text": [
      "+-------------+-------+\n",
      "|nameOrigIndex|  count|\n",
      "+-------------+-------+\n",
      "|          0.0|3182505|\n",
      "+-------------+-------+\n",
      "\n"
     ]
    }
   ],
   "source": [
    "data.groupBy('nameOrigIndex').count().show()"
   ]
  },
  {
   "cell_type": "markdown",
   "id": "f5ee45ec",
   "metadata": {},
   "source": [
    "### str_dest column :"
   ]
  },
  {
   "cell_type": "code",
   "execution_count": 41,
   "id": "3e1cd709",
   "metadata": {},
   "outputs": [
    {
     "name": "stdout",
     "output_type": "stream",
     "text": [
      "+----+-------+-------------+--------------+-------+-------------+-------------+---------+-------------+-------------+\n",
      "|step| amount|oldbalanceOrg|oldbalanceDest|isFraud|     num_orig|     num_dest|typeIndex|nameOrigIndex|nameDestIndex|\n",
      "+----+-------+-------------+--------------+-------+-------------+-------------+---------+-------------+-------------+\n",
      "| 1.0|  181.0|        181.0|       21182.0|      1| 8.40083671E8| 8.40083671E8|      0.0|          0.0|          0.0|\n",
      "| 1.0|7861.64|    176087.23|           0.0|      0|1.912850431E9|1.912850431E9|      1.0|          0.0|          1.0|\n",
      "| 1.0|9644.94|       4465.0|       10845.0|      0|1.900366749E9|1.900366749E9|      4.0|          0.0|          0.0|\n",
      "| 1.0|2560.74|       5070.0|           0.0|      0|1.648232591E9|1.648232591E9|      1.0|          0.0|          1.0|\n",
      "| 1.0|1563.82|        450.0|           0.0|      0| 7.61750706E8| 7.61750706E8|      1.0|          0.0|          1.0|\n",
      "+----+-------+-------------+--------------+-------+-------------+-------------+---------+-------------+-------------+\n",
      "only showing top 5 rows\n",
      "\n"
     ]
    }
   ],
   "source": [
    "indexer = StringIndexer(inputCol='str_dest', outputCol='nameDestIndex')\n",
    "data = indexer.fit(data).transform(data)\n",
    "data = data.drop('str_dest')\n",
    "data.show(5)"
   ]
  },
  {
   "cell_type": "code",
   "execution_count": 42,
   "id": "cdd010e8",
   "metadata": {},
   "outputs": [
    {
     "name": "stdout",
     "output_type": "stream",
     "text": [
      "+-------------+-------+\n",
      "|nameDestIndex|  count|\n",
      "+-------------+-------+\n",
      "|          0.0|2106868|\n",
      "|          1.0|1075637|\n",
      "+-------------+-------+\n",
      "\n"
     ]
    }
   ],
   "source": [
    "data.groupBy('nameDestIndex').count().show()"
   ]
  },
  {
   "cell_type": "markdown",
   "id": "4018e006",
   "metadata": {},
   "source": [
    "## 3 - Applying Synthetic Minority Oversampling Technique (SMOTE)"
   ]
  },
  {
   "cell_type": "code",
   "execution_count": 43,
   "id": "dcdbf1a8",
   "metadata": {},
   "outputs": [],
   "source": [
    "pd_data = data.toPandas()"
   ]
  },
  {
   "cell_type": "code",
   "execution_count": 44,
   "id": "d730d093",
   "metadata": {},
   "outputs": [
    {
     "data": {
      "text/html": [
       "<div>\n",
       "<style scoped>\n",
       "    .dataframe tbody tr th:only-of-type {\n",
       "        vertical-align: middle;\n",
       "    }\n",
       "\n",
       "    .dataframe tbody tr th {\n",
       "        vertical-align: top;\n",
       "    }\n",
       "\n",
       "    .dataframe thead th {\n",
       "        text-align: right;\n",
       "    }\n",
       "</style>\n",
       "<table border=\"1\" class=\"dataframe\">\n",
       "  <thead>\n",
       "    <tr style=\"text-align: right;\">\n",
       "      <th></th>\n",
       "      <th>step</th>\n",
       "      <th>amount</th>\n",
       "      <th>oldbalanceOrg</th>\n",
       "      <th>oldbalanceDest</th>\n",
       "      <th>isFraud</th>\n",
       "      <th>num_orig</th>\n",
       "      <th>num_dest</th>\n",
       "      <th>typeIndex</th>\n",
       "      <th>nameOrigIndex</th>\n",
       "      <th>nameDestIndex</th>\n",
       "    </tr>\n",
       "  </thead>\n",
       "  <tbody>\n",
       "    <tr>\n",
       "      <th>0</th>\n",
       "      <td>1.0</td>\n",
       "      <td>181.00</td>\n",
       "      <td>181.00</td>\n",
       "      <td>21182.0</td>\n",
       "      <td>1</td>\n",
       "      <td>8.400837e+08</td>\n",
       "      <td>8.400837e+08</td>\n",
       "      <td>0.0</td>\n",
       "      <td>0.0</td>\n",
       "      <td>0.0</td>\n",
       "    </tr>\n",
       "    <tr>\n",
       "      <th>1</th>\n",
       "      <td>1.0</td>\n",
       "      <td>7861.64</td>\n",
       "      <td>176087.23</td>\n",
       "      <td>0.0</td>\n",
       "      <td>0</td>\n",
       "      <td>1.912850e+09</td>\n",
       "      <td>1.912850e+09</td>\n",
       "      <td>1.0</td>\n",
       "      <td>0.0</td>\n",
       "      <td>1.0</td>\n",
       "    </tr>\n",
       "    <tr>\n",
       "      <th>2</th>\n",
       "      <td>1.0</td>\n",
       "      <td>9644.94</td>\n",
       "      <td>4465.00</td>\n",
       "      <td>10845.0</td>\n",
       "      <td>0</td>\n",
       "      <td>1.900367e+09</td>\n",
       "      <td>1.900367e+09</td>\n",
       "      <td>4.0</td>\n",
       "      <td>0.0</td>\n",
       "      <td>0.0</td>\n",
       "    </tr>\n",
       "    <tr>\n",
       "      <th>3</th>\n",
       "      <td>1.0</td>\n",
       "      <td>2560.74</td>\n",
       "      <td>5070.00</td>\n",
       "      <td>0.0</td>\n",
       "      <td>0</td>\n",
       "      <td>1.648233e+09</td>\n",
       "      <td>1.648233e+09</td>\n",
       "      <td>1.0</td>\n",
       "      <td>0.0</td>\n",
       "      <td>1.0</td>\n",
       "    </tr>\n",
       "    <tr>\n",
       "      <th>4</th>\n",
       "      <td>1.0</td>\n",
       "      <td>1563.82</td>\n",
       "      <td>450.00</td>\n",
       "      <td>0.0</td>\n",
       "      <td>0</td>\n",
       "      <td>7.617507e+08</td>\n",
       "      <td>7.617507e+08</td>\n",
       "      <td>1.0</td>\n",
       "      <td>0.0</td>\n",
       "      <td>1.0</td>\n",
       "    </tr>\n",
       "  </tbody>\n",
       "</table>\n",
       "</div>"
      ],
      "text/plain": [
       "   step   amount  oldbalanceOrg  oldbalanceDest  isFraud      num_orig  \\\n",
       "0   1.0   181.00         181.00         21182.0        1  8.400837e+08   \n",
       "1   1.0  7861.64      176087.23             0.0        0  1.912850e+09   \n",
       "2   1.0  9644.94        4465.00         10845.0        0  1.900367e+09   \n",
       "3   1.0  2560.74        5070.00             0.0        0  1.648233e+09   \n",
       "4   1.0  1563.82         450.00             0.0        0  7.617507e+08   \n",
       "\n",
       "       num_dest  typeIndex  nameOrigIndex  nameDestIndex  \n",
       "0  8.400837e+08        0.0            0.0            0.0  \n",
       "1  1.912850e+09        1.0            0.0            1.0  \n",
       "2  1.900367e+09        4.0            0.0            0.0  \n",
       "3  1.648233e+09        1.0            0.0            1.0  \n",
       "4  7.617507e+08        1.0            0.0            1.0  "
      ]
     },
     "execution_count": 44,
     "metadata": {},
     "output_type": "execute_result"
    }
   ],
   "source": [
    "pd_data.head()"
   ]
  },
  {
   "cell_type": "code",
   "execution_count": 45,
   "id": "af4ba5e6",
   "metadata": {},
   "outputs": [],
   "source": [
    "# Run the prep_data function\n",
    "X,y = prep_data(pd_data)"
   ]
  },
  {
   "cell_type": "code",
   "execution_count": 46,
   "id": "a2fcd02b",
   "metadata": {},
   "outputs": [
    {
     "name": "stdout",
     "output_type": "stream",
     "text": [
      "X shape: (3182505, 9)\n",
      "y shape: (3182505,)\n"
     ]
    }
   ],
   "source": [
    "print(f'X shape: {X.shape}\\ny shape: {y.shape}')"
   ]
  },
  {
   "cell_type": "code",
   "execution_count": 47,
   "id": "0f555c47",
   "metadata": {},
   "outputs": [],
   "source": [
    "# Define the resampling method\n",
    "method = SMOTE()"
   ]
  },
  {
   "cell_type": "code",
   "execution_count": 48,
   "id": "a31ef4a8",
   "metadata": {},
   "outputs": [],
   "source": [
    "# Create the resampled feature set\n",
    "X_resampled, y_resampled = method.fit_resample(X, y)"
   ]
  },
  {
   "cell_type": "code",
   "execution_count": 49,
   "id": "2aa0330f",
   "metadata": {},
   "outputs": [
    {
     "data": {
      "text/plain": [
       "1    3178413\n",
       "0    3178413\n",
       "Name: isFraud, dtype: int64"
      ]
     },
     "execution_count": 49,
     "metadata": {},
     "output_type": "execute_result"
    }
   ],
   "source": [
    "y_resampled.value_counts()"
   ]
  },
  {
   "cell_type": "code",
   "execution_count": 50,
   "id": "2802fda0",
   "metadata": {},
   "outputs": [
    {
     "data": {
      "image/png": "[encoded data removed]",
      "text/plain": [
       "<Figure size 576x432 with 1 Axes>"
      ]
     },
     "metadata": {
      "needs_background": "light"
     },
     "output_type": "display_data"
    }
   ],
   "source": [
    "# Plot the resampled data\n",
    "plot_data(X_resampled, y_resampled)"
   ]
  },
  {
   "cell_type": "markdown",
   "id": "d2d92cd5",
   "metadata": {},
   "source": [
    "### Compare SMOTE to original data"
   ]
  },
  {
   "cell_type": "code",
   "execution_count": 51,
   "id": "4950d6f9",
   "metadata": {},
   "outputs": [],
   "source": [
    "def compare_plot(X, y, X_resampled, y_resampled, method):\n",
    "    plt.subplot(1, 2, 1)\n",
    "    plt.scatter(X[y == 0].oldbalanceOrg, X[y == 0].oldbalanceDest, label=\"nonFraud #0\", alpha=0.5, linewidth=0.15)\n",
    "    plt.scatter(X[y == 1].oldbalanceOrg, X[y == 1].oldbalanceDest, label=\"Fraud #1\", alpha=0.5, linewidth=0.15, c='r')\n",
    "    plt.title('Original Set')\n",
    "    plt.legend()\n",
    "    plt.subplot(1, 2, 2)\n",
    "    plt.scatter(X_resampled[y_resampled == 0].oldbalanceOrg, X_resampled[y_resampled == 0].oldbalanceDest, label=\"nonFraud #0\", alpha=0.5, linewidth=0.15)\n",
    "    plt.scatter(X_resampled[y_resampled == 1].oldbalanceOrg, X_resampled[y_resampled == 1].oldbalanceDest, label=\"Fraud #1\", alpha=0.5, linewidth=0.15, c='r')\n",
    "    plt.title(method)\n",
    "    plt.legend()\n",
    "    plt.show()"
   ]
  },
  {
   "cell_type": "code",
   "execution_count": 52,
   "id": "d8da08ce",
   "metadata": {},
   "outputs": [
    {
     "data": {
      "image/png": "[encoded data removed]",
      "text/plain": [
       "<Figure size 432x288 with 2 Axes>"
      ]
     },
     "metadata": {
      "needs_background": "light"
     },
     "output_type": "display_data"
    }
   ],
   "source": [
    "compare_plot(X, y, X_resampled, y_resampled, method='SMOTE')"
   ]
  },
  {
   "cell_type": "markdown",
   "id": "e7774068",
   "metadata": {},
   "source": [
    "**Conclusion :**\n",
    "<br>\n",
    "It should by now be clear that SMOTE has balanced our data completely, and that the minority class is now equal in size to the majority class. Visualizing the data shows the effect on the data very clearly."
   ]
  },
  {
   "cell_type": "markdown",
   "id": "6ef334cd",
   "metadata": {},
   "source": [
    "# Fraud detection algorithms in action"
   ]
  },
  {
   "cell_type": "markdown",
   "id": "aea9cb61",
   "metadata": {},
   "source": [
    "## 4 - Exploring the traditional method of fraud detection :"
   ]
  },
  {
   "cell_type": "code",
   "execution_count": 53,
   "id": "cb2d5f37",
   "metadata": {},
   "outputs": [
    {
     "data": {
      "text/html": [
       "<div>\n",
       "<style scoped>\n",
       "    .dataframe tbody tr th:only-of-type {\n",
       "        vertical-align: middle;\n",
       "    }\n",
       "\n",
       "    .dataframe tbody tr th {\n",
       "        vertical-align: top;\n",
       "    }\n",
       "\n",
       "    .dataframe thead th {\n",
       "        text-align: right;\n",
       "    }\n",
       "</style>\n",
       "<table border=\"1\" class=\"dataframe\">\n",
       "  <thead>\n",
       "    <tr style=\"text-align: right;\">\n",
       "      <th></th>\n",
       "      <th>step</th>\n",
       "      <th>amount</th>\n",
       "      <th>oldbalanceOrg</th>\n",
       "      <th>oldbalanceDest</th>\n",
       "      <th>num_orig</th>\n",
       "      <th>num_dest</th>\n",
       "      <th>typeIndex</th>\n",
       "      <th>nameOrigIndex</th>\n",
       "      <th>nameDestIndex</th>\n",
       "    </tr>\n",
       "    <tr>\n",
       "      <th>isFraud</th>\n",
       "      <th></th>\n",
       "      <th></th>\n",
       "      <th></th>\n",
       "      <th></th>\n",
       "      <th></th>\n",
       "      <th></th>\n",
       "      <th></th>\n",
       "      <th></th>\n",
       "      <th></th>\n",
       "    </tr>\n",
       "  </thead>\n",
       "  <tbody>\n",
       "    <tr>\n",
       "      <th>0</th>\n",
       "      <td>243.157005</td>\n",
       "      <td>1.784843e+05</td>\n",
       "      <td>8.317111e+05</td>\n",
       "      <td>1.105574e+06</td>\n",
       "      <td>1.073637e+09</td>\n",
       "      <td>1.073637e+09</td>\n",
       "      <td>1.054533</td>\n",
       "      <td>0.0</td>\n",
       "      <td>0.33842</td>\n",
       "    </tr>\n",
       "    <tr>\n",
       "      <th>1</th>\n",
       "      <td>370.327224</td>\n",
       "      <td>1.441792e+06</td>\n",
       "      <td>1.639435e+06</td>\n",
       "      <td>5.131857e+05</td>\n",
       "      <td>1.073219e+09</td>\n",
       "      <td>1.073219e+09</td>\n",
       "      <td>1.496334</td>\n",
       "      <td>0.0</td>\n",
       "      <td>0.00000</td>\n",
       "    </tr>\n",
       "  </tbody>\n",
       "</table>\n",
       "</div>"
      ],
      "text/plain": [
       "               step        amount  oldbalanceOrg  oldbalanceDest  \\\n",
       "isFraud                                                            \n",
       "0        243.157005  1.784843e+05   8.317111e+05    1.105574e+06   \n",
       "1        370.327224  1.441792e+06   1.639435e+06    5.131857e+05   \n",
       "\n",
       "             num_orig      num_dest  typeIndex  nameOrigIndex  nameDestIndex  \n",
       "isFraud                                                                       \n",
       "0        1.073637e+09  1.073637e+09   1.054533            0.0        0.33842  \n",
       "1        1.073219e+09  1.073219e+09   1.496334            0.0        0.00000  "
      ]
     },
     "execution_count": 53,
     "metadata": {},
     "output_type": "execute_result"
    }
   ],
   "source": [
    "pd_data.groupby('isFraud').mean()"
   ]
  },
  {
   "cell_type": "code",
   "execution_count": 54,
   "id": "22817679",
   "metadata": {},
   "outputs": [],
   "source": [
    "pd_data['flag_as_fraud'] = np.where(np.logical_and(pd_data.amount > 1.5e6, pd_data.oldbalanceOrg > 1.7e6), 1, 0)"
   ]
  },
  {
   "cell_type": "code",
   "execution_count": 55,
   "id": "8c6bcfa2",
   "metadata": {},
   "outputs": [
    {
     "data": {
      "text/html": [
       "<div>\n",
       "<style scoped>\n",
       "    .dataframe tbody tr th:only-of-type {\n",
       "        vertical-align: middle;\n",
       "    }\n",
       "\n",
       "    .dataframe tbody tr th {\n",
       "        vertical-align: top;\n",
       "    }\n",
       "\n",
       "    .dataframe thead th {\n",
       "        text-align: right;\n",
       "    }\n",
       "</style>\n",
       "<table border=\"1\" class=\"dataframe\">\n",
       "  <thead>\n",
       "    <tr style=\"text-align: right;\">\n",
       "      <th>Flagged Fraud</th>\n",
       "      <th>0</th>\n",
       "      <th>1</th>\n",
       "    </tr>\n",
       "    <tr>\n",
       "      <th>Actual Fraud</th>\n",
       "      <th></th>\n",
       "      <th></th>\n",
       "    </tr>\n",
       "  </thead>\n",
       "  <tbody>\n",
       "    <tr>\n",
       "      <th>0</th>\n",
       "      <td>3178384</td>\n",
       "      <td>29</td>\n",
       "    </tr>\n",
       "    <tr>\n",
       "      <th>1</th>\n",
       "      <td>3167</td>\n",
       "      <td>925</td>\n",
       "    </tr>\n",
       "  </tbody>\n",
       "</table>\n",
       "</div>"
      ],
      "text/plain": [
       "Flagged Fraud        0    1\n",
       "Actual Fraud               \n",
       "0              3178384   29\n",
       "1                 3167  925"
      ]
     },
     "execution_count": 55,
     "metadata": {},
     "output_type": "execute_result"
    }
   ],
   "source": [
    "pd.crosstab(pd_data.isFraud, pd_data.flag_as_fraud, rownames=['Actual Fraud'], colnames=['Flagged Fraud'])"
   ]
  },
  {
   "cell_type": "markdown",
   "id": "b5cf971e",
   "metadata": {},
   "source": [
    "## 5 - Fraud detection using ML Algorithms :"
   ]
  },
  {
   "cell_type": "code",
   "execution_count": 56,
   "id": "33a6b6b5",
   "metadata": {},
   "outputs": [],
   "source": [
    "from pyspark.ml.evaluation import BinaryClassificationEvaluator"
   ]
  },
  {
   "cell_type": "markdown",
   "id": "bd9c2578",
   "metadata": {},
   "source": [
    "#### Precision, Recall, f1,  auc,  auPR scores function :"
   ]
  },
  {
   "cell_type": "code",
   "execution_count": 57,
   "id": "184bea0b",
   "metadata": {},
   "outputs": [],
   "source": [
    "def model_evaluation(predicted, model):\n",
    "    tp = predicted[(predicted.label==1) & (predicted.prediction==1)].count()\n",
    "    fp = predicted[(predicted.label==0) & (predicted.prediction==1)].count()\n",
    "    tn = predicted[(predicted.label==0) & (predicted.prediction==0)].count()\n",
    "    fn = predicted[(predicted.label==1) & (predicted.prediction==0)].count()\n",
    "    precision = tp/(tp + fp)\n",
    "    recall = tp/(tp + fn)\n",
    "    f1 = (2*precision*recall)/(precision+recall)\n",
    "    \n",
    "    print('------ '+model+' ------')\n",
    "    print('precision_score :',round((precision*100),2),'%')\n",
    "    print('recall_score :',round((recall*100),2),'%')\n",
    "    print('f1 score :',round((f1*100),2),'%')\n",
    "    \n",
    "    evaluator = BinaryClassificationEvaluator()\n",
    "    auc = evaluator.evaluate(predicted, {evaluator.metricName : \"areaUnderROC\"})\n",
    "    print(\"AUC score :\",round((auc*100),2),\"%\")\n",
    "    au_pr = evaluator.evaluate(predicted, {evaluator.metricName : \"areaUnderPR\"})\n",
    "    print(\"AU_PR score :\",round((au_pr*100),2),\"%\")\n",
    "    \n",
    "    conf_mat = np.array([\n",
    "        [tp, fn],\n",
    "        [fp, tn]\n",
    "    ])\n",
    "    print('Confusion Matrix :')\n",
    "    plt.imshow(conf_mat, vmax = fn+tp)\n",
    "    for i in range(len(conf_mat)):\n",
    "        for j in range(len(conf_mat[0])):\n",
    "            plt.text(i,j,conf_mat[i][j])\n",
    "    plt.colorbar()\n",
    "    plt.show()\n",
    "    return precision, recall, f1, auc, au_pr"
   ]
  },
  {
   "cell_type": "markdown",
   "id": "c13a4b80",
   "metadata": {},
   "source": [
    "### 5.2 - Vector Assembler :"
   ]
  },
  {
   "cell_type": "code",
   "execution_count": 58,
   "id": "f7120f9f",
   "metadata": {},
   "outputs": [],
   "source": [
    "from pyspark.ml.feature import VectorAssembler"
   ]
  },
  {
   "cell_type": "code",
   "execution_count": 59,
   "id": "1ef1e36f",
   "metadata": {},
   "outputs": [
    {
     "name": "stdout",
     "output_type": "stream",
     "text": [
      "Predictors :\n",
      "['step', 'amount', 'oldbalanceOrg', 'oldbalanceDest', 'num_orig', 'num_dest', 'typeIndex', 'nameOrigIndex', 'nameDestIndex']\n"
     ]
    }
   ],
   "source": [
    "print('Predictors :')\n",
    "print(data.drop('isFraud').columns)"
   ]
  },
  {
   "cell_type": "code",
   "execution_count": 60,
   "id": "b949d9ee",
   "metadata": {},
   "outputs": [],
   "source": [
    "assembler = VectorAssembler(\n",
    "    inputCols = ['step', 'amount', 'oldbalanceOrg', 'oldbalanceDest', 'num_orig', 'num_dest', 'typeIndex', 'nameOrigIndex', 'nameDestIndex'],\n",
    "    outputCol = 'features'\n",
    ")"
   ]
  },
  {
   "cell_type": "code",
   "execution_count": 61,
   "id": "3e63f7e5",
   "metadata": {},
   "outputs": [],
   "source": [
    "asm = assembler.transform(data)"
   ]
  },
  {
   "cell_type": "code",
   "execution_count": 62,
   "id": "e1b10769",
   "metadata": {},
   "outputs": [
    {
     "name": "stdout",
     "output_type": "stream",
     "text": [
      "+--------------------------------------------------------------------+-------+\n",
      "|features                                                            |isFraud|\n",
      "+--------------------------------------------------------------------+-------+\n",
      "|[1.0,181.0,181.0,21182.0,8.40083671E8,8.40083671E8,0.0,0.0,0.0]     |1      |\n",
      "|[1.0,7861.64,176087.23,0.0,1.912850431E9,1.912850431E9,1.0,0.0,1.0] |0      |\n",
      "|[1.0,9644.94,4465.0,10845.0,1.900366749E9,1.900366749E9,4.0,0.0,0.0]|0      |\n",
      "|[1.0,2560.74,5070.0,0.0,1.648232591E9,1.648232591E9,1.0,0.0,1.0]    |0      |\n",
      "|[1.0,1563.82,450.0,0.0,7.61750706E8,7.61750706E8,1.0,0.0,1.0]       |0      |\n",
      "+--------------------------------------------------------------------+-------+\n",
      "only showing top 5 rows\n",
      "\n"
     ]
    }
   ],
   "source": [
    "asm.select('features','isFraud').show(5, truncate = False)"
   ]
  },
  {
   "cell_type": "code",
   "execution_count": 63,
   "id": "b46aa81f",
   "metadata": {},
   "outputs": [],
   "source": [
    "df = asm.select(\n",
    "    F.col('features').alias('features'),\n",
    "    F.col('isFraud').alias('label'),\n",
    ")"
   ]
  },
  {
   "cell_type": "code",
   "execution_count": 64,
   "id": "e02209d7",
   "metadata": {},
   "outputs": [
    {
     "name": "stdout",
     "output_type": "stream",
     "text": [
      "+--------------------------------------------------------------------+-----+\n",
      "|features                                                            |label|\n",
      "+--------------------------------------------------------------------+-----+\n",
      "|[1.0,181.0,181.0,21182.0,8.40083671E8,8.40083671E8,0.0,0.0,0.0]     |1    |\n",
      "|[1.0,7861.64,176087.23,0.0,1.912850431E9,1.912850431E9,1.0,0.0,1.0] |0    |\n",
      "|[1.0,9644.94,4465.0,10845.0,1.900366749E9,1.900366749E9,4.0,0.0,0.0]|0    |\n",
      "|[1.0,2560.74,5070.0,0.0,1.648232591E9,1.648232591E9,1.0,0.0,1.0]    |0    |\n",
      "|[1.0,1563.82,450.0,0.0,7.61750706E8,7.61750706E8,1.0,0.0,1.0]       |0    |\n",
      "+--------------------------------------------------------------------+-----+\n",
      "only showing top 5 rows\n",
      "\n"
     ]
    }
   ],
   "source": [
    "df.show(5, truncate=False)"
   ]
  },
  {
   "cell_type": "code",
   "execution_count": 65,
   "id": "a19c34f3",
   "metadata": {},
   "outputs": [],
   "source": [
    "# train test split :\n",
    "train, test = df.randomSplit([0.8, 0.2], seed=45)"
   ]
  },
  {
   "cell_type": "code",
   "execution_count": 66,
   "id": "81ea368d",
   "metadata": {},
   "outputs": [
    {
     "data": {
      "text/plain": [
       "[2546764, 635741]"
      ]
     },
     "execution_count": 66,
     "metadata": {},
     "output_type": "execute_result"
    }
   ],
   "source": [
    "[train.count(), test.count()]"
   ]
  },
  {
   "cell_type": "code",
   "execution_count": 67,
   "id": "5f0d324f",
   "metadata": {},
   "outputs": [
    {
     "name": "stdout",
     "output_type": "stream",
     "text": [
      "+-----+-------+\n",
      "|label|  count|\n",
      "+-----+-------+\n",
      "|    1|   3278|\n",
      "|    0|2543486|\n",
      "+-----+-------+\n",
      "\n"
     ]
    }
   ],
   "source": [
    "train.groupBy('label').count().show()"
   ]
  },
  {
   "cell_type": "code",
   "execution_count": 68,
   "id": "68374541",
   "metadata": {},
   "outputs": [
    {
     "name": "stdout",
     "output_type": "stream",
     "text": [
      "+-----+------+\n",
      "|label| count|\n",
      "+-----+------+\n",
      "|    1|   814|\n",
      "|    0|634927|\n",
      "+-----+------+\n",
      "\n"
     ]
    }
   ],
   "source": [
    "test.groupBy('label').count().show()"
   ]
  },
  {
   "cell_type": "markdown",
   "id": "1976936d",
   "metadata": {},
   "source": [
    "### 5.3 - Logistic Regression :"
   ]
  },
  {
   "cell_type": "code",
   "execution_count": 69,
   "id": "5bc2f987",
   "metadata": {},
   "outputs": [],
   "source": [
    "from pyspark.ml.classification import LogisticRegression"
   ]
  },
  {
   "cell_type": "code",
   "execution_count": 70,
   "id": "8f6991ad",
   "metadata": {},
   "outputs": [],
   "source": [
    "logistic = LogisticRegression()\n",
    "lrModel = logistic.fit(train)"
   ]
  },
  {
   "cell_type": "code",
   "execution_count": 71,
   "id": "f2dab934",
   "metadata": {},
   "outputs": [],
   "source": [
    "lr_predicted = lrModel.transform(test)"
   ]
  },
  {
   "cell_type": "markdown",
   "id": "5aa87b9b",
   "metadata": {},
   "source": [
    "#### Model evaluation :"
   ]
  },
  {
   "cell_type": "code",
   "execution_count": 72,
   "id": "f65d0945",
   "metadata": {},
   "outputs": [
    {
     "name": "stdout",
     "output_type": "stream",
     "text": [
      "------ Logistic Regression ------\n",
      "precision_score : 88.46 %\n",
      "recall_score : 2.83 %\n",
      "f1 score : 5.48 %\n",
      "AUC score : 87.41 %\n",
      "AU_PR score : 5.34 %\n",
      "Confusion Matrix :\n"
     ]
    },
    {
     "data": {
      "image/png": "[encoded data removed]",
      "text/plain": [
       "<Figure size 432x288 with 2 Axes>"
      ]
     },
     "metadata": {
      "needs_background": "light"
     },
     "output_type": "display_data"
    }
   ],
   "source": [
    "precision, recall, f1, auc, au_pr = model_evaluation(lr_predicted, 'Logistic Regression')"
   ]
  },
  {
   "cell_type": "code",
   "execution_count": 73,
   "id": "f0a47b83",
   "metadata": {},
   "outputs": [],
   "source": [
    "results = {}"
   ]
  },
  {
   "cell_type": "code",
   "execution_count": 74,
   "id": "2d27705f",
   "metadata": {},
   "outputs": [],
   "source": [
    "results['Logistic Regression'] = [precision, recall, f1, auc, au_pr]"
   ]
  },
  {
   "cell_type": "markdown",
   "id": "c3433e89",
   "metadata": {},
   "source": [
    "### 5.4 - DecisionTree Classifier :"
   ]
  },
  {
   "cell_type": "code",
   "execution_count": 75,
   "id": "f86ec968",
   "metadata": {},
   "outputs": [],
   "source": [
    "from pyspark.ml.classification import DecisionTreeClassifier"
   ]
  },
  {
   "cell_type": "code",
   "execution_count": 76,
   "id": "09e4b9d3",
   "metadata": {},
   "outputs": [],
   "source": [
    "dt = DecisionTreeClassifier(maxBins=100)\n",
    "dtModel = dt.fit(train)"
   ]
  },
  {
   "cell_type": "code",
   "execution_count": 77,
   "id": "9fc5e721",
   "metadata": {},
   "outputs": [],
   "source": [
    "dt_predicted = dtModel.transform(test)"
   ]
  },
  {
   "cell_type": "markdown",
   "id": "d843a337",
   "metadata": {},
   "source": [
    "#### Model evaluation :"
   ]
  },
  {
   "cell_type": "code",
   "execution_count": 78,
   "id": "6a9fddc9",
   "metadata": {},
   "outputs": [
    {
     "name": "stdout",
     "output_type": "stream",
     "text": [
      "------ DecisionTree Classifier ------\n",
      "precision_score : 84.58 %\n",
      "recall_score : 43.12 %\n",
      "f1 score : 57.12 %\n",
      "AUC score : 22.07 %\n",
      "AU_PR score : 0.08 %\n",
      "Confusion Matrix :\n"
     ]
    },
    {
     "data": {
      "image/png": "[encoded data removed]",
      "text/plain": [
       "<Figure size 432x288 with 2 Axes>"
      ]
     },
     "metadata": {
      "needs_background": "light"
     },
     "output_type": "display_data"
    }
   ],
   "source": [
    "precision, recall, f1, auc, au_pr = model_evaluation(dt_predicted, 'DecisionTree Classifier')"
   ]
  },
  {
   "cell_type": "code",
   "execution_count": 79,
   "id": "759f2533",
   "metadata": {},
   "outputs": [],
   "source": [
    "results['Decision Tree'] = [precision, recall, f1, auc, au_pr]"
   ]
  },
  {
   "cell_type": "markdown",
   "id": "8a8c7b3f",
   "metadata": {},
   "source": [
    "### 5.5 - RandomForest Classifier :"
   ]
  },
  {
   "cell_type": "code",
   "execution_count": 80,
   "id": "e3082e59",
   "metadata": {},
   "outputs": [],
   "source": [
    "from pyspark.ml.classification import RandomForestClassifier"
   ]
  },
  {
   "cell_type": "code",
   "execution_count": 81,
   "id": "8fda4f3a",
   "metadata": {},
   "outputs": [],
   "source": [
    "rf = RandomForestClassifier(numTrees=30)\n",
    "rfModel = rf.fit(train)"
   ]
  },
  {
   "cell_type": "code",
   "execution_count": 82,
   "id": "adaa776e",
   "metadata": {},
   "outputs": [],
   "source": [
    "rf_predicted = rfModel.transform(test)"
   ]
  },
  {
   "cell_type": "markdown",
   "id": "4c1e4ce6",
   "metadata": {},
   "source": [
    "#### Model evaluation :"
   ]
  },
  {
   "cell_type": "code",
   "execution_count": 83,
   "id": "0d54f2e7",
   "metadata": {},
   "outputs": [
    {
     "name": "stdout",
     "output_type": "stream",
     "text": [
      "------ RandomForest Classifier ------\n",
      "precision_score : 98.59 %\n",
      "recall_score : 25.8 %\n",
      "f1 score : 40.9 %\n",
      "AUC score : 95.53 %\n",
      "AU_PR score : 47.06 %\n",
      "Confusion Matrix :\n"
     ]
    },
    {
     "data": {
      "image/png": "[encoded data removed]",
      "text/plain": [
       "<Figure size 432x288 with 2 Axes>"
      ]
     },
     "metadata": {
      "needs_background": "light"
     },
     "output_type": "display_data"
    }
   ],
   "source": [
    "precision, recall, f1, auc, au_pr = model_evaluation(rf_predicted, 'RandomForest Classifier')"
   ]
  },
  {
   "cell_type": "code",
   "execution_count": 84,
   "id": "ba55daba",
   "metadata": {},
   "outputs": [],
   "source": [
    "results['Random Forest'] = [precision, recall, f1, auc, au_pr]"
   ]
  },
  {
   "cell_type": "markdown",
   "id": "b68180d9",
   "metadata": {},
   "source": [
    "### 5.6 - Gradient-boosted tree Classifier :"
   ]
  },
  {
   "cell_type": "code",
   "execution_count": 85,
   "id": "0e8fc712",
   "metadata": {},
   "outputs": [],
   "source": [
    "from pyspark.ml.classification import GBTClassifier"
   ]
  },
  {
   "cell_type": "code",
   "execution_count": 86,
   "id": "63ec8924",
   "metadata": {},
   "outputs": [],
   "source": [
    "gbt = GBTClassifier(maxIter=10)\n",
    "gbtModel = gbt.fit(train)"
   ]
  },
  {
   "cell_type": "code",
   "execution_count": 87,
   "id": "c75afa31",
   "metadata": {},
   "outputs": [],
   "source": [
    "gbt_predicted = gbtModel.transform(test)"
   ]
  },
  {
   "cell_type": "markdown",
   "id": "7be30281",
   "metadata": {},
   "source": [
    "#### Model evaluation :"
   ]
  },
  {
   "cell_type": "code",
   "execution_count": 88,
   "id": "8261d393",
   "metadata": {},
   "outputs": [
    {
     "name": "stdout",
     "output_type": "stream",
     "text": [
      "------ GBT Classifier ------\n",
      "precision_score : 84.45 %\n",
      "recall_score : 44.72 %\n",
      "f1 score : 58.47 %\n",
      "AUC score : 99.01 %\n",
      "AU_PR score : 64.61 %\n",
      "Confusion Matrix :\n"
     ]
    },
    {
     "data": {
      "image/png": "[encoded data removed]",
      "text/plain": [
       "<Figure size 432x288 with 2 Axes>"
      ]
     },
     "metadata": {
      "needs_background": "light"
     },
     "output_type": "display_data"
    }
   ],
   "source": [
    "precision, recall, f1, auc, au_pr = model_evaluation(gbt_predicted, 'GBT Classifier')"
   ]
  },
  {
   "cell_type": "code",
   "execution_count": 89,
   "id": "3936a864",
   "metadata": {},
   "outputs": [],
   "source": [
    "results['GBT'] = [precision, recall, f1, auc, au_pr]"
   ]
  },
  {
   "cell_type": "markdown",
   "id": "5c3de453",
   "metadata": {},
   "source": [
    "## 6 - Models Comparaison :"
   ]
  },
  {
   "cell_type": "code",
   "execution_count": 90,
   "id": "194b7356",
   "metadata": {},
   "outputs": [
    {
     "data": {
      "text/html": [
       "<div>\n",
       "<style scoped>\n",
       "    .dataframe tbody tr th:only-of-type {\n",
       "        vertical-align: middle;\n",
       "    }\n",
       "\n",
       "    .dataframe tbody tr th {\n",
       "        vertical-align: top;\n",
       "    }\n",
       "\n",
       "    .dataframe thead th {\n",
       "        text-align: right;\n",
       "    }\n",
       "</style>\n",
       "<table border=\"1\" class=\"dataframe\">\n",
       "  <thead>\n",
       "    <tr style=\"text-align: right;\">\n",
       "      <th></th>\n",
       "      <th>precision</th>\n",
       "      <th>recall</th>\n",
       "      <th>f1_score</th>\n",
       "      <th>auc</th>\n",
       "      <th>au_PR</th>\n",
       "    </tr>\n",
       "  </thead>\n",
       "  <tbody>\n",
       "    <tr>\n",
       "      <th>Logistic Regression</th>\n",
       "      <td>0.884615</td>\n",
       "      <td>0.028256</td>\n",
       "      <td>0.054762</td>\n",
       "      <td>0.874101</td>\n",
       "      <td>0.053413</td>\n",
       "    </tr>\n",
       "    <tr>\n",
       "      <th>Decision Tree</th>\n",
       "      <td>0.845783</td>\n",
       "      <td>0.431204</td>\n",
       "      <td>0.571196</td>\n",
       "      <td>0.220678</td>\n",
       "      <td>0.000756</td>\n",
       "    </tr>\n",
       "    <tr>\n",
       "      <th>Random Forest</th>\n",
       "      <td>0.985915</td>\n",
       "      <td>0.257985</td>\n",
       "      <td>0.408958</td>\n",
       "      <td>0.955347</td>\n",
       "      <td>0.470585</td>\n",
       "    </tr>\n",
       "    <tr>\n",
       "      <th>GBT</th>\n",
       "      <td>0.844548</td>\n",
       "      <td>0.447174</td>\n",
       "      <td>0.584739</td>\n",
       "      <td>0.990077</td>\n",
       "      <td>0.646093</td>\n",
       "    </tr>\n",
       "  </tbody>\n",
       "</table>\n",
       "</div>"
      ],
      "text/plain": [
       "                     precision    recall  f1_score       auc     au_PR\n",
       "Logistic Regression   0.884615  0.028256  0.054762  0.874101  0.053413\n",
       "Decision Tree         0.845783  0.431204  0.571196  0.220678  0.000756\n",
       "Random Forest         0.985915  0.257985  0.408958  0.955347  0.470585\n",
       "GBT                   0.844548  0.447174  0.584739  0.990077  0.646093"
      ]
     },
     "execution_count": 90,
     "metadata": {},
     "output_type": "execute_result"
    }
   ],
   "source": [
    "scores = pd.DataFrame(results, index = ['precision', 'recall', 'f1_score', 'auc', 'au_PR']).T\n",
    "scores"
   ]
  },
  {
   "cell_type": "code",
   "execution_count": 91,
   "id": "77e057f7",
   "metadata": {},
   "outputs": [
    {
     "data": {
      "text/html": [
       "<div>\n",
       "<style scoped>\n",
       "    .dataframe tbody tr th:only-of-type {\n",
       "        vertical-align: middle;\n",
       "    }\n",
       "\n",
       "    .dataframe tbody tr th {\n",
       "        vertical-align: top;\n",
       "    }\n",
       "\n",
       "    .dataframe thead th {\n",
       "        text-align: right;\n",
       "    }\n",
       "</style>\n",
       "<table border=\"1\" class=\"dataframe\">\n",
       "  <thead>\n",
       "    <tr style=\"text-align: right;\">\n",
       "      <th></th>\n",
       "      <th>precision</th>\n",
       "      <th>recall</th>\n",
       "      <th>f1_score</th>\n",
       "      <th>auc</th>\n",
       "      <th>au_PR</th>\n",
       "    </tr>\n",
       "  </thead>\n",
       "  <tbody>\n",
       "    <tr>\n",
       "      <th>GBT</th>\n",
       "      <td>0.844548</td>\n",
       "      <td>0.447174</td>\n",
       "      <td>0.584739</td>\n",
       "      <td>0.990077</td>\n",
       "      <td>0.646093</td>\n",
       "    </tr>\n",
       "    <tr>\n",
       "      <th>Decision Tree</th>\n",
       "      <td>0.845783</td>\n",
       "      <td>0.431204</td>\n",
       "      <td>0.571196</td>\n",
       "      <td>0.220678</td>\n",
       "      <td>0.000756</td>\n",
       "    </tr>\n",
       "    <tr>\n",
       "      <th>Random Forest</th>\n",
       "      <td>0.985915</td>\n",
       "      <td>0.257985</td>\n",
       "      <td>0.408958</td>\n",
       "      <td>0.955347</td>\n",
       "      <td>0.470585</td>\n",
       "    </tr>\n",
       "    <tr>\n",
       "      <th>Logistic Regression</th>\n",
       "      <td>0.884615</td>\n",
       "      <td>0.028256</td>\n",
       "      <td>0.054762</td>\n",
       "      <td>0.874101</td>\n",
       "      <td>0.053413</td>\n",
       "    </tr>\n",
       "  </tbody>\n",
       "</table>\n",
       "</div>"
      ],
      "text/plain": [
       "                     precision    recall  f1_score       auc     au_PR\n",
       "GBT                   0.844548  0.447174  0.584739  0.990077  0.646093\n",
       "Decision Tree         0.845783  0.431204  0.571196  0.220678  0.000756\n",
       "Random Forest         0.985915  0.257985  0.408958  0.955347  0.470585\n",
       "Logistic Regression   0.884615  0.028256  0.054762  0.874101  0.053413"
      ]
     },
     "execution_count": 91,
     "metadata": {},
     "output_type": "execute_result"
    }
   ],
   "source": [
    "# Sort by recall :\n",
    "scores.sort_values('recall', ascending=False)"
   ]
  },
  {
   "cell_type": "markdown",
   "id": "bf11f01f",
   "metadata": {},
   "source": [
    "**Conclusion :**\n",
    "<br>\n",
    "By combining the classifiers, we can take the best of multiple models. we've increased the cases of fraud we are catching (high Recall) by using GBT Classifier. If we do care about catching as many fraud cases as we can, whilst keeping the false positives low, this is a pretty good trade-off."
   ]
  },
  {
   "cell_type": "code",
   "execution_count": null,
   "id": "fca7b971",
   "metadata": {},
   "outputs": [],
   "source": []
  }
 ],
 "metadata": {
  "kernelspec": {
   "display_name": "Python 3 (ipykernel)",
   "language": "python",
   "name": "python3"
  },
  "language_info": {
   "codemirror_mode": {
    "name": "ipython",
    "version": 3
   },
   "file_extension": ".py",
   "mimetype": "text/x-python",
   "name": "python",
   "nbconvert_exporter": "python",
   "pygments_lexer": "ipython3",
   "version": "3.9.7"
  }
 },
 "nbformat": 4,
 "nbformat_minor": 5
}
